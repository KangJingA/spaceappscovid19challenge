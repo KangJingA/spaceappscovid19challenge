{
 "cells": [
  {
   "cell_type": "code",
   "execution_count": 5,
   "metadata": {},
   "outputs": [],
   "source": [
    "import requests\n",
    "import numpy as np\n",
    "import pandas as pd\n",
    "import geopandas as gpd\n",
    "from bokeh.io import output_notebook, show, output_file\n",
    "from bokeh.plotting import figure\n",
    "from bokeh.models import GeoJSONDataSource, LinearColorMapper, ColorBar\n",
    "from bokeh.palettes import brewer"
   ]
  },
  {
   "cell_type": "code",
   "execution_count": 275,
   "metadata": {},
   "outputs": [],
   "source": [
    "# make file into pandas dataframe and get median\n",
    "\n",
    "def process_income(month):\n",
    "    income_data = pd.read_csv(f'data_income_unemployment/household_income_{month}.csv')#,\n",
    "                                # for monthly data only\n",
    "                                # header = 4)\n",
    "\n",
    "    # find median \"person number\" per state\n",
    "    total_people_per_state = income_data.sum(axis = 1)\n",
    "    middle_person = total_people_per_state/2\n",
    "    # middle_person = pd.DataFrame(middle_person)\n",
    "    # print(middle_person)\n",
    "\n",
    "    # delete text column; not used for newer weekly data, though it doesn't really matter.\n",
    "    # states_removed = income_data.drop(['Selected Geographies'], axis = 1).astype(float)\n",
    "    # print(states_removed)\n",
    "\n",
    "    # get cumulative sum of people across rows\n",
    "    # for monthly data set, use this:\n",
    "    # states_cumulative = np.cumsum(states_removed, axis = 1)\n",
    "\n",
    "    # for weekly data set, use this:\n",
    "    states_cumulative = np.cumsum(income_data, axis = 1)\n",
    "\n",
    "    # print(states_cumulative)\n",
    "\n",
    "    # print(\"cumulative states type is \",type(states_cumulative))\n",
    "    # print(\"middle person type is \",type(middle_person))\n",
    "    \n",
    "    # find where the median lies within income brackets\n",
    "    \n",
    "    def find_median(month):\n",
    "        i = 0\n",
    "        medians_across_states = pd.DataFrame(columns = [f'median_income_{month}'])\n",
    "\n",
    "        # for monthly set, use this:\n",
    "        for i in range(51):\n",
    "            j = 0\n",
    "            # print(\"j has been reset to\", j)\n",
    "\n",
    "            # while half the total sample for the state is >= cumulative numbers, check the next cumulative number in the income bracket.\n",
    "            while (middle_person.iloc[i] > states_cumulative.iloc[i,j]) or (middle_person.iloc[i] == states_cumulative.iloc[i,j]):\n",
    "                median_column = states_cumulative.columns[j]\n",
    "                \n",
    "                # statements to check code\n",
    "                '''\n",
    "                print(\"boolean is \", (middle_person.iloc[i] > states_cumulative.iloc[i,j]) or (middle_person.iloc[i] == states_cumulative.iloc[i,j]))\n",
    "                print(\"middle_person.iloc[i] = \", middle_person.iloc[i])\n",
    "                print(\"states_cumulative.iloc[i,j] = \", states_cumulative.iloc[i,j])\n",
    "                '''\n",
    "                \n",
    "                j += 1\n",
    "\n",
    "            else:\n",
    "                median_column = states_cumulative.columns[j]\n",
    "                # print(\"The median column is {} for i = {} and j = {}\".format(median_column, i, j))\n",
    "                # print(\"Median column is \", type(median_column))\n",
    "\n",
    "                # add into dataframe\n",
    "                medians_across_states = medians_across_states.append({f'median_income_{month}': median_column},\n",
    "                                                                        ignore_index = True)\n",
    "\n",
    "                # print(medians_across_states)\n",
    "\n",
    "        return medians_across_states\n",
    "\n",
    "    # print(income_data)\n",
    "\n",
    "    # put into new dataframe with just states, median income, and month\n",
    "\n",
    "    return find_median(month)"
   ]
  },
  {
   "cell_type": "code",
   "execution_count": 276,
   "metadata": {
    "tags": [
     "outputPrepend",
     "outputPrepend"
    ]
   },
   "outputs": [
    {
     "output_type": "execute_result",
     "data": {
      "text/plain": "         median_income_w1\n0       $50,000 - $74,999\n1       $50,000 - $74,999\n2       $50,000 - $74,999\n3       $35,000 - $49,999\n4       $50,000 - $74,999\n5       $75,000 - $99,999\n6       $50,000 - $74,999\n7       $50,000 - $74,999\n8       $75,000 - $99,999\n9       $50,000 - $74,999\n10      $50,000 - $74,999\n11      $50,000 - $74,999\n12      $50,000 - $74,999\n13      $50,000 - $74,999\n14      $50,000 - $74,999\n15      $50,000 - $74,999\n16      $50,000 - $74,999\n17      $50,000 - $74,999\n18      $50,000 - $74,999\n19      $50,000 - $74,999\n20      $75,000 - $99,999\n21      $75,000 - $99,999\n22      $50,000 - $74,999\n23      $50,000 - $74,999\n24      $35,000 - $49,999\n25      $50,000 - $74,999\n26      $50,000 - $74,999\n27      $50,000 - $74,999\n28      $50,000 - $74,999\n29      $50,000 - $74,999\n30      $75,000 - $99,999\n31      $35,000 - $49,999\n32      $50,000 - $74,999\n33      $50,000 - $74,999\n34      $50,000 - $74,999\n35      $50,000 - $74,999\n36      $50,000 - $74,999\n37      $50,000 - $74,999\n38      $50,000 - $74,999\n39      $50,000 - $74,999\n40      $50,000 - $74,999\n41      $50,000 - $74,999\n42      $50,000 - $74,999\n43      $50,000 - $74,999\n44      $50,000 - $74,999\n45      $50,000 - $74,999\n46      $75,000 - $99,999\n47      $50,000 - $74,999\n48      $50,000 - $74,999\n49      $50,000 - $74,999\n50      $50,000 - $74,999",
      "text/html": "<div>\n<style scoped>\n    .dataframe tbody tr th:only-of-type {\n        vertical-align: middle;\n    }\n\n    .dataframe tbody tr th {\n        vertical-align: top;\n    }\n\n    .dataframe thead th {\n        text-align: right;\n    }\n</style>\n<table border=\"1\" class=\"dataframe\">\n  <thead>\n    <tr style=\"text-align: right;\">\n      <th></th>\n      <th>median_income_w1</th>\n    </tr>\n  </thead>\n  <tbody>\n    <tr>\n      <td>0</td>\n      <td>$50,000 - $74,999</td>\n    </tr>\n    <tr>\n      <td>1</td>\n      <td>$50,000 - $74,999</td>\n    </tr>\n    <tr>\n      <td>2</td>\n      <td>$50,000 - $74,999</td>\n    </tr>\n    <tr>\n      <td>3</td>\n      <td>$35,000 - $49,999</td>\n    </tr>\n    <tr>\n      <td>4</td>\n      <td>$50,000 - $74,999</td>\n    </tr>\n    <tr>\n      <td>5</td>\n      <td>$75,000 - $99,999</td>\n    </tr>\n    <tr>\n      <td>6</td>\n      <td>$50,000 - $74,999</td>\n    </tr>\n    <tr>\n      <td>7</td>\n      <td>$50,000 - $74,999</td>\n    </tr>\n    <tr>\n      <td>8</td>\n      <td>$75,000 - $99,999</td>\n    </tr>\n    <tr>\n      <td>9</td>\n      <td>$50,000 - $74,999</td>\n    </tr>\n    <tr>\n      <td>10</td>\n      <td>$50,000 - $74,999</td>\n    </tr>\n    <tr>\n      <td>11</td>\n      <td>$50,000 - $74,999</td>\n    </tr>\n    <tr>\n      <td>12</td>\n      <td>$50,000 - $74,999</td>\n    </tr>\n    <tr>\n      <td>13</td>\n      <td>$50,000 - $74,999</td>\n    </tr>\n    <tr>\n      <td>14</td>\n      <td>$50,000 - $74,999</td>\n    </tr>\n    <tr>\n      <td>15</td>\n      <td>$50,000 - $74,999</td>\n    </tr>\n    <tr>\n      <td>16</td>\n      <td>$50,000 - $74,999</td>\n    </tr>\n    <tr>\n      <td>17</td>\n      <td>$50,000 - $74,999</td>\n    </tr>\n    <tr>\n      <td>18</td>\n      <td>$50,000 - $74,999</td>\n    </tr>\n    <tr>\n      <td>19</td>\n      <td>$50,000 - $74,999</td>\n    </tr>\n    <tr>\n      <td>20</td>\n      <td>$75,000 - $99,999</td>\n    </tr>\n    <tr>\n      <td>21</td>\n      <td>$75,000 - $99,999</td>\n    </tr>\n    <tr>\n      <td>22</td>\n      <td>$50,000 - $74,999</td>\n    </tr>\n    <tr>\n      <td>23</td>\n      <td>$50,000 - $74,999</td>\n    </tr>\n    <tr>\n      <td>24</td>\n      <td>$35,000 - $49,999</td>\n    </tr>\n    <tr>\n      <td>25</td>\n      <td>$50,000 - $74,999</td>\n    </tr>\n    <tr>\n      <td>26</td>\n      <td>$50,000 - $74,999</td>\n    </tr>\n    <tr>\n      <td>27</td>\n      <td>$50,000 - $74,999</td>\n    </tr>\n    <tr>\n      <td>28</td>\n      <td>$50,000 - $74,999</td>\n    </tr>\n    <tr>\n      <td>29</td>\n      <td>$50,000 - $74,999</td>\n    </tr>\n    <tr>\n      <td>30</td>\n      <td>$75,000 - $99,999</td>\n    </tr>\n    <tr>\n      <td>31</td>\n      <td>$35,000 - $49,999</td>\n    </tr>\n    <tr>\n      <td>32</td>\n      <td>$50,000 - $74,999</td>\n    </tr>\n    <tr>\n      <td>33</td>\n      <td>$50,000 - $74,999</td>\n    </tr>\n    <tr>\n      <td>34</td>\n      <td>$50,000 - $74,999</td>\n    </tr>\n    <tr>\n      <td>35</td>\n      <td>$50,000 - $74,999</td>\n    </tr>\n    <tr>\n      <td>36</td>\n      <td>$50,000 - $74,999</td>\n    </tr>\n    <tr>\n      <td>37</td>\n      <td>$50,000 - $74,999</td>\n    </tr>\n    <tr>\n      <td>38</td>\n      <td>$50,000 - $74,999</td>\n    </tr>\n    <tr>\n      <td>39</td>\n      <td>$50,000 - $74,999</td>\n    </tr>\n    <tr>\n      <td>40</td>\n      <td>$50,000 - $74,999</td>\n    </tr>\n    <tr>\n      <td>41</td>\n      <td>$50,000 - $74,999</td>\n    </tr>\n    <tr>\n      <td>42</td>\n      <td>$50,000 - $74,999</td>\n    </tr>\n    <tr>\n      <td>43</td>\n      <td>$50,000 - $74,999</td>\n    </tr>\n    <tr>\n      <td>44</td>\n      <td>$50,000 - $74,999</td>\n    </tr>\n    <tr>\n      <td>45</td>\n      <td>$50,000 - $74,999</td>\n    </tr>\n    <tr>\n      <td>46</td>\n      <td>$75,000 - $99,999</td>\n    </tr>\n    <tr>\n      <td>47</td>\n      <td>$50,000 - $74,999</td>\n    </tr>\n    <tr>\n      <td>48</td>\n      <td>$50,000 - $74,999</td>\n    </tr>\n    <tr>\n      <td>49</td>\n      <td>$50,000 - $74,999</td>\n    </tr>\n    <tr>\n      <td>50</td>\n      <td>$50,000 - $74,999</td>\n    </tr>\n  </tbody>\n</table>\n</div>"
     },
     "metadata": {},
     "execution_count": 276
    }
   ],
   "source": [
    "# process_income('apr').to_csv('apr.csv', index = False)\n",
    "\n",
    "process_income('w1')"
   ]
  },
  {
   "cell_type": "code",
   "execution_count": 238,
   "metadata": {
    "tags": [
     "outputPrepend"
    ]
   },
   "outputs": [
    {
     "output_type": "stream",
     "name": "stdout",
     "text": " abbreviations FIPS_code\n0                Alabama            AL        01\n1                 Alaska            AK        02\n2                Arizona            AZ        04\n3               Arkansas            AR        05\n4             California            CA        06\n5               Colorado            CO        08\n6            Connecticut            CT        09\n7               Delaware            DE        10\n8   District of Columbia            DC        11\n9                Florida            FL        12\n10               Georgia            GA        13\n11                Hawaii            HI        15\n12                 Idaho            ID        16\n13              Illinois            IL        17\n14               Indiana            IN        18\n15                  Iowa            IA        19\n16                Kansas            KS        20\n17              Kentucky            KY        21\n18             Louisiana            LA        22\n19                 Maine            ME        23\n20              Maryland            MD        24\n21         Massachusetts            MA        25\n22              Michigan            MI        26\n23             Minnesota            MN        27\n24           Mississippi            MS        28\n25              Missouri            MO        29\n26               Montana            MT        30\n27              Nebraska            NE        31\n28                Nevada            NV        32\n29         New Hampshire            NH        33\n30            New Jersey            NJ        34\n31            New Mexico            NM        35\n32              New York            NY        36\n33        North Carolina            NC        37\n34          North Dakota            ND        38\n35                  Ohio            OH        39\n36              Oklahoma            OK        40\n37                Oregon            OR        41\n38          Pennsylvania            PA        42\n39          Rhode Island            RI        44\n40        South Carolina            SC        45\n41          South Dakota            SD        46\n42             Tennessee            TN        47\n43                 Texas            TX        48\n44                  Utah            UT        49\n45               Vermont            VT        50\n46              Virginia            VA        51\n47            Washington            WA        53\n48         West Virginia            WV        54\n49             Wisconsin            WI        55\n50               Wyoming            WY        56\n    Selected Geographies  Less Than $5,000  5,000 To 7,499  7,500 To 9,999  \\\n0                Alabama             37871           11602           68832   \n1                 Alaska              6705            1119            2224   \n2                Arizona             34432           14942           56051   \n3               Arkansas             39748           13860           38884   \n4             California            310961          151091          141268   \n5               Colorado             40851           12417           26364   \n6            Connecticut             39633            7136            7181   \n7               Delaware              8946            3076            3541   \n8   District of Columbia             15494            5635           11020   \n9                Florida            159107           78045          199412   \n10               Georgia             76951           35428           79076   \n11                Hawaii             12005           12473            4396   \n12                 Idaho              7263            9328            7780   \n13              Illinois            166378           77320           79613   \n14               Indiana             59864           58822           64110   \n15                  Iowa             14669           14209           25691   \n16                Kansas             13881            7897           11939   \n17              Kentucky             46306           24284           34843   \n18             Louisiana             88221           22624           78480   \n19                 Maine              5434            4557           10600   \n20              Maryland             29591           11563            7024   \n21         Massachusetts             43731           18727           53682   \n22              Michigan             87156           42886           80129   \n23             Minnesota             51721           13631           35772   \n24           Mississippi             39251           26293           41980   \n25              Missouri             41634           23308           73064   \n26               Montana             10126            5635           10954   \n27              Nebraska             21655           10274           10047   \n28                Nevada             29348           10045            5168   \n29         New Hampshire              4888            1743            6810   \n30            New Jersey             36953           23009           76827   \n31            New Mexico             24341            9460           36489   \n32              New York            173900           90998          123654   \n33        North Carolina            115465           37131           79512   \n34          North Dakota              7831            1998            7571   \n35                  Ohio            200956           48894           94660   \n36              Oklahoma             40771           27234           32696   \n37                Oregon             33028            9605           15473   \n38          Pennsylvania            116020           66243           82540   \n39          Rhode Island              9400            5373            9074   \n40        South Carolina             49395           22641           28874   \n41          South Dakota             10540            2469           10602   \n42             Tennessee             97806           13579           39855   \n43                 Texas            193812          160865          238680   \n44                  Utah             11351            6028            8474   \n45               Vermont              2707            1333             985   \n46              Virginia             44403           48977           44124   \n47            Washington             47912           12868           47739   \n48         West Virginia             20127            5938           20328   \n49             Wisconsin             42422           35796           16737   \n50               Wyoming              4047            3503            4978   \n\n    10,000 To 12,499  12,500 To 14,999  15,000 To 19,999  20,000 To 24,999  \\\n0              82505             58792             94772             95154   \n1               8185              4943              6436              8740   \n2              72845             52526             94809            133373   \n3              55495             37063             57801             81758   \n4             303328            242527            548189            635919   \n5              43210             59726             41522            118163   \n6              19858             25456             37139             54968   \n7              14964              8342              8283             16355   \n8               8280              5545              4185              7152   \n9             227693            236190            439807            442059   \n10            127219            113601            143278            181107   \n11             10670              5708             10281             15230   \n12             10833             16383             28171             28931   \n13            120388            145195            118260            187149   \n14             47181             81012            107016            110294   \n15             25330             26908             63278             61770   \n16             34662             26059             66215             41480   \n17             72102             86734            116404            105427   \n18             71869             54121             92352            129542   \n19             21763             17166             22281             33711   \n20             14040             33464             58427             66026   \n21             69785             60163             96806             90835   \n22            153179            108338            159913            192891   \n23             66568             49969             61906             76910   \n24             41237             43292            106230             82175   \n25             91178             44145            130431            152673   \n26             11593             10451             18096             30041   \n27             15629             14168             22797             38231   \n28             13732             36936             39596             50894   \n29              9511             18198             13259             23007   \n30             36346             53371             53546            111461   \n31             29849             20374             33330             35720   \n32            262398            219503            298023            289472   \n33            146491            120423            256219            267652   \n34              6948              5609              8493             15282   \n35            140304            150821            259359            249438   \n36             42929             26035             64703             64143   \n37             27618             39234             47700             79192   \n38            122546             99164            237419            337343   \n39             13925             19638             17339             33102   \n40             76238             27402            124239            122398   \n41              6963              5533             15678             19409   \n42            133530             85658            138152            140014   \n43            271367            149436            432285            577137   \n44             13426             10850             12034             36038   \n45              6448              5699              8871             12374   \n46             71234             84279             91916            107872   \n47             39852             34580             84284             81827   \n48             18473             31344             46828             46130   \n49             68374             44185             80310            100511   \n50              5482              5501              6417             10845   \n\n    25,000 To 29,999  30,000 To 34,999  35,000 To 39,999  40,000 To 49,999  \\\n0              93665            115516            114588            197908   \n1               8928              8763             11676             26057   \n2             124487            158730            127265            251335   \n3              72089             77579             60543            123039   \n4             534762            642710            796509            902422   \n5             113115             68969             74452            219439   \n6              44509             63545             47419            106293   \n7              19533             16353             22005             31999   \n8               7432             13355              7739             13658   \n9             556918            555282            594698            883104   \n10            225971            265464            271958            418551   \n11             23452             23220             17580             37565   \n12             27991             47405             48391             82651   \n13            215285            206088            182874            392245   \n14            179861            165243            177419            208099   \n15             42375             96928             83476            123479   \n16             45051             82823             58854             91768   \n17             72147             99186            111113            174329   \n18             94878             85505             79771            170198   \n19             39540             34911             26404             43711   \n20             90360             97070            130851             96501   \n21            101825             81453            103097            161184   \n22            204848            239841            204473            375433   \n23             72124            137563            109647            236044   \n24             78406             70213             64892             94293   \n25            148141            165946            115491            266723   \n26             24049             35457             28288             46219   \n27             39725             46884             33740             46224   \n28             43802             56577             71098             94785   \n29             13160             18027             24484             27239   \n30            160461            159816            148420            281802   \n31             62327             55383             52017             71053   \n32            320439            370560            382498            547710   \n33            263598            297693            254271            351295   \n34             10685             16762             23654             30395   \n35            200907            276966            299106            343755   \n36            121479            106183             99659            133836   \n37             93627             89162             61866            174355   \n38            207940            353484            253019            387525   \n39             21084             27341             17311             37019   \n40             90014            123227            159498            174804   \n41             12989             19454             22805             31853   \n42            174054            173566            145784            219373   \n43            488348            695734            539457            990779   \n44             32733             50087             57350             77267   \n45              9343             14762             14812             24109   \n46             91343            155838             82131            238293   \n47            109773            137883            179489            262812   \n48             36270             55650             46909             70263   \n49            129471            101188            147461            249801   \n50             10673             12340             13940             19271   \n\n    50,000 To 59,999  60,000 To 74,999  75,000 To 99,999  100,000 To 149,999  \\\n0             167231            184086            246702              232644   \n1              23699             25967             31400               43124   \n2             282198            321028            428959              376247   \n3             100156            150609            152950              104486   \n4            1076654           1380341           1904834             2039605   \n5             145319            244405            314935              378173   \n6              59738            138342            194067              240465   \n7              26121             48086             58989               53370   \n8              20417             24160             36554               50003   \n9             891301            911733            921875              878649   \n10            372717            417214            446691              432747   \n11             32374             63159             57739               72807   \n12             85833             84705             80631               85576   \n13            474314            491853            680589              720224   \n14            241798            314943            313241              333380   \n15            124116            138702            163214              189026   \n16             86257            140963            143251              152434   \n17            159215            168066            201216              219263   \n18            158527            189635            195137              223267   \n19             47880             56315             63420               88631   \n20            195684            217601            281208              538576   \n21            197910            215909            282132              481468   \n22            283042            507681            477989              624571   \n23            192347            250499            350082              370174   \n24            106666             99394            102548              102292   \n25            205569            268346            366426              260093   \n26             49782             53929             53024               42537   \n27             60771            107539            111039               90714   \n28            122386            131261            174057              186118   \n29             56034             63162             74700              106809   \n30            179303            218013            450195              568260   \n31             81447             92721             89265              100735   \n32            595909            622772            944876             1008350   \n33            366492            415395            569711              422473   \n34             31679             30917             39387               56036   \n35            369796            468778            614668              638434   \n36            143466            139864            219399              177378   \n37            129731            152694            219340              249105   \n38            471912            565949            581110              644295   \n39             44881             32091             48057               71231   \n40            190688            256718            222057              245353   \n41             31145             49862             55307               42334   \n42            279646            291366            322609              278946   \n43            728547           1213909           1209360             1366706   \n44            121202            152841            159749              154318   \n45             19664             32358             45276               44510   \n46            239360            289152            374510              564323   \n47            207854            342722            375395              564473   \n48             60806             71593             87642               74468   \n49            191221            287657            364100              338671   \n50             21357             31386             35756               31417   \n\n    150,000 or More  \n0            197225  \n1             35913  \n2            307386  \n3             87700  \n4           2705233  \n5            446252  \n6            291192  \n7             37225  \n8            101287  \n9            902842  \n10           485671  \n11            75516  \n12            57542  \n13           801378  \n14           235242  \n15           117448  \n16            94732  \n17           115188  \n18           152527  \n19            55530  \n20           503429  \n21           671000  \n22           498846  \n23           312054  \n24            61618  \n25           229938  \n26            34996  \n27            69371  \n28           162992  \n29            87702  \n30           720782  \n31            48935  \n32          1435928  \n33           438014  \n34            32846  \n35           426775  \n36           149079  \n37           227034  \n38           665508  \n39            58956  \n40           224458  \n41            25094  \n42           258063  \n43          1242637  \n44           159658  \n45            32653  \n46           796351  \n47           461516  \n48            40822  \n49           193774  \n50            18733  \n"
    }
   ],
   "source": [
    "states_acronyms = [\"AL\", \"AK\", \"AZ\", \"AR\", \"CA\", \"CO\", \"CT\", \"DE\", \"DC\", \"FL\", \"GA\", \"HI\", \"ID\", \"IL\", \"IN\", \"IA\", \"KS\", \"KY\", \"LA\", \"ME\", \"MD\", \"MA\", \"MI\", \"MN\", \"MS\", \"MO\", \"MT\", \"NE\", \"NV\", \"NH\", \"NJ\", \"NM\", \"NY\", \"NC\", \"ND\", \"OH\", \"OK\", \"OR\", \"PA\", \"RI\", \"SC\", \"SD\", \"TN\", \"TX\", \"UT\", \"VT\", \"VA\", \"WA\", \"WV\", \"WI\", \"WY\"]\n",
    "    \n",
    "state_codes = [\"01\",\"02\",\"04\",\"05\",\"06\",\"08\",\"09\",\"10\",\"11\",\"12\",\"13\",\"15\",\"16\",\"17\",\"18\",\"19\",\"20\",\"21\",\"22\",\"23\",\"24\",\"25\",\"26\",\"27\",\"28\",\"29\",\"30\",\"31\",\"32\",\"33\",\"34\",\"35\",\"36\",\"37\",\"38\",\"39\",\"40\",\"41\",\"42\",\"44\",\"45\",\"46\",\"47\",\"48\",\"49\",\"50\",\"51\",\"53\",\"54\",\"55\",\"56\"]\n",
    "\n",
    "def states_list():\n",
    "    states_list = pd.read_csv(f'data_income_unemployment/states_list.csv', header = 0)\n",
    "    states_list[\"abbreviations\"] = states_acronyms\n",
    "    states_list[\"FIPS_code\"] = state_codes\n",
    "\n",
    "    print(states_list)\n",
    "    return states_list\n",
    "\n",
    "# use this to generate months data\n",
    "joined_data = states_list().join(process_income('mar'), lsuffix='_caller', rsuffix='_other')\n",
    "joined_data.to_csv('mar.csv', index=False)"
   ]
  },
  {
   "cell_type": "code",
   "execution_count": 196,
   "metadata": {},
   "outputs": [],
   "source": [
    "# opening new types of data.\n",
    "def open_excel_file(week, state):\n",
    "    new_stats = pd.read_excel(f\"data_income_unemployment/US_employment_stats_{week}.xlsx\", sheet_name = state, usecols = \"A:B\", skiprows = 42)\n",
    "\n",
    "    # cleaning and transposing data\n",
    "    new_stats = new_stats.drop([8]).T\n",
    "    new_stats = new_stats.reset_index()\n",
    "\n",
    "    # fixing columns\n",
    "    new_stats.columns = new_stats.iloc[0]\n",
    "    new_stats = new_stats.drop(new_stats.index[0])\n",
    "    new_stats = new_stats.drop('Household income ', axis = 1).reset_index(drop = True)\n",
    "\n",
    "    return new_stats\n"
   ]
  },
  {
   "cell_type": "code",
   "execution_count": 197,
   "metadata": {},
   "outputs": [
    {
     "output_type": "execute_result",
     "data": {
      "text/plain": "0     Less than $25,000     $25,000 - $34,999     $35,000 - $49,999  \\\n0                587836                441336                383656   \n\n0     $50,000 - $74,999     $75,000 - $99,999     $100,000 - $149,999  \\\n0                701761                326753                  399938   \n\n0     $150,000 - $199,999     $200,000 and above  \n0                  176707                  73169  ",
      "text/html": "<div>\n<style scoped>\n    .dataframe tbody tr th:only-of-type {\n        vertical-align: middle;\n    }\n\n    .dataframe tbody tr th {\n        vertical-align: top;\n    }\n\n    .dataframe thead th {\n        text-align: right;\n    }\n</style>\n<table border=\"1\" class=\"dataframe\">\n  <thead>\n    <tr style=\"text-align: right;\">\n      <th></th>\n      <th>Less than $25,000</th>\n      <th>$25,000 - $34,999</th>\n      <th>$35,000 - $49,999</th>\n      <th>$50,000 - $74,999</th>\n      <th>$75,000 - $99,999</th>\n      <th>$100,000 - $149,999</th>\n      <th>$150,000 - $199,999</th>\n      <th>$200,000 and above</th>\n    </tr>\n  </thead>\n  <tbody>\n    <tr>\n      <td>0</td>\n      <td>587836</td>\n      <td>441336</td>\n      <td>383656</td>\n      <td>701761</td>\n      <td>326753</td>\n      <td>399938</td>\n      <td>176707</td>\n      <td>73169</td>\n    </tr>\n  </tbody>\n</table>\n</div>"
     },
     "metadata": {},
     "execution_count": 197
    }
   ],
   "source": [
    "open_excel_file('w1','AL')"
   ]
  },
  {
   "cell_type": "code",
   "execution_count": 247,
   "metadata": {},
   "outputs": [],
   "source": [
    "# putting data together to make it look like the other sets of data\n",
    "\n",
    "# making it blank first to not be affected by past operations\n",
    "data_per_state = pd.DataFrame()\n",
    "\n",
    "for i in range(51):\n",
    "    data_per_state = data_per_state.append(open_excel_file('w3',states_acronyms[i]), ignore_index = True)\n",
    "\n",
    "data_per_state.to_csv('household_income_w3.csv', index=False)\n",
    "\n",
    "# note that week 1 = Apr 23 - May 5\n",
    "# week 2 = May 7 - May 12\n",
    "# week 3 = May 14 - May 19"
   ]
  },
  {
   "cell_type": "code",
   "execution_count": 279,
   "metadata": {},
   "outputs": [
    {
     "output_type": "stream",
     "name": "stdout",
     "text": "Selected Geographies abbreviations FIPS_code\n0                Alabama            AL        01\n1                 Alaska            AK        02\n2                Arizona            AZ        04\n3               Arkansas            AR        05\n4             California            CA        06\n5               Colorado            CO        08\n6            Connecticut            CT        09\n7               Delaware            DE        10\n8   District of Columbia            DC        11\n9                Florida            FL        12\n10               Georgia            GA        13\n11                Hawaii            HI        15\n12                 Idaho            ID        16\n13              Illinois            IL        17\n14               Indiana            IN        18\n15                  Iowa            IA        19\n16                Kansas            KS        20\n17              Kentucky            KY        21\n18             Louisiana            LA        22\n19                 Maine            ME        23\n20              Maryland            MD        24\n21         Massachusetts            MA        25\n22              Michigan            MI        26\n23             Minnesota            MN        27\n24           Mississippi            MS        28\n25              Missouri            MO        29\n26               Montana            MT        30\n27              Nebraska            NE        31\n28                Nevada            NV        32\n29         New Hampshire            NH        33\n30            New Jersey            NJ        34\n31            New Mexico            NM        35\n32              New York            NY        36\n33        North Carolina            NC        37\n34          North Dakota            ND        38\n35                  Ohio            OH        39\n36              Oklahoma            OK        40\n37                Oregon            OR        41\n38          Pennsylvania            PA        42\n39          Rhode Island            RI        44\n40        South Carolina            SC        45\n41          South Dakota            SD        46\n42             Tennessee            TN        47\n43                 Texas            TX        48\n44                  Utah            UT        49\n45               Vermont            VT        50\n46              Virginia            VA        51\n47            Washington            WA        53\n48         West Virginia            WV        54\n49             Wisconsin            WI        55\n50               Wyoming            WY        56\n"
    }
   ],
   "source": [
    "# again for new weekly data\n",
    "\n",
    "joined_data = states_list().join(process_income('w3'), lsuffix='_caller', rsuffix='_other')\n",
    "joined_data.to_csv('w3.csv', index=False)"
   ]
  },
  {
   "cell_type": "code",
   "execution_count": null,
   "metadata": {},
   "outputs": [],
   "source": []
  }
 ],
 "metadata": {
  "language_info": {
   "codemirror_mode": {
    "name": "ipython",
    "version": 3
   },
   "file_extension": ".py",
   "mimetype": "text/x-python",
   "name": "python",
   "nbconvert_exporter": "python",
   "pygments_lexer": "ipython3",
   "version": "3.7.4-final"
  },
  "orig_nbformat": 2,
  "kernelspec": {
   "name": "python3",
   "display_name": "Python 3"
  }
 },
 "nbformat": 4,
 "nbformat_minor": 2
}