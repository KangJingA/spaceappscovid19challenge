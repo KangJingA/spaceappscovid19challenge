{
 "cells": [
  {
   "cell_type": "code",
   "execution_count": 24,
   "metadata": {},
   "outputs": [],
   "source": [
    "import requests\n",
    "import numpy as np\n",
    "import pandas as pd\n",
    "import geopandas as gpd\n",
    "from bokeh.io import output_notebook, show, output_file\n",
    "from bokeh.plotting import figure\n",
    "from bokeh.models import GeoJSONDataSource, LinearColorMapper, ColorBar\n",
    "from bokeh.palettes import brewer"
   ]
  },
  {
   "cell_type": "code",
   "execution_count": 17,
   "metadata": {
    "tags": [
     "outputPrepend"
    ]
   },
   "outputs": [],
   "source": [
    "# gets data from api of US census info from basic monthly cps, sorted by state, for all states.\n",
    "def get_cps_monthly_data(month_three_letters, year):\n",
    "    api_link = f'https://api.census.gov/data/{year}/cps/basic/{month_three_letters}?get=HWHHWGT,HEFAMINC&ucgid=0400000US01,0400000US02,0400000US04,0400000US05,0400000US06,0400000US08,0400000US09,0400000US10,0400000US11,0400000US12,0400000US13,0400000US15,0400000US16,0400000US17,0400000US18,0400000US19,0400000US20,0400000US21,0400000US22,0400000US23,0400000US24,0400000US25,0400000US26,0400000US27,0400000US28,0400000US29,0400000US30,0400000US31,0400000US32,0400000US33,0400000US34,0400000US35,0400000US36,0400000US37,0400000US38,0400000US39,0400000US40,0400000US41,0400000US42,0400000US44,0400000US45,0400000US46,0400000US47,0400000US48,0400000US49,0400000US50,0400000US51,0400000US53,0400000US54,0400000US55,0400000US56'\n",
    "    response = requests.get(api_link)\n",
    "    data = response.json()\n",
    "    return data"
   ]
  },
  {
   "cell_type": "code",
   "execution_count": 26,
   "metadata": {},
   "outputs": [
    {
     "output_type": "stream",
     "name": "stdout",
     "text": "[['HWHHWGT', 'HEFAMINC', 'GESTFIPS'], ['0.0000', '-1', '46'], ['918.1112', '9', '46']]\n"
    }
   ],
   "source": [
    "# look at data headings\n",
    "print(get_cps_monthly_data('apr', 2020)[0:3])"
   ]
  },
  {
   "cell_type": "code",
   "execution_count": 86,
   "metadata": {},
   "outputs": [],
   "source": [
    "# map data into a legible pandas dataframe, using data dictionary\n",
    "\n",
    "def dataframe_cps(month, year):\n",
    "    # make list of lists into a dataframe\n",
    "    df_cps = pd.DataFrame(get_cps_monthly_data(month, year))\n",
    "\n",
    "    # rename columns (according to dictionary), drop duplicate columns, drop rows with no household weight\n",
    "    df_cps.columns = ['household_weight', 'family_income','state_number']\n",
    "    df_cps = df_cps.drop(df_cps.index[0])\n",
    "    df_cps = df_cps[df_cps.household_weight != '0.0000']\n",
    "\n",
    "    # sum all households with same family income and state\n",
    "    sum_columns = df_cps.groupby(['family_income','state_number'])['household_weight']#.astype(float).sum(axis=0)\n",
    "\n",
    "    print(df_cps.columns)\n",
    "    print(df_cps)\n",
    "    print(sum_columns)\n",
    "\n",
    "    return\n",
    "\n",
    "# HWHHWGT is important only for calculating HEFAMINC\n",
    "\n"
   ]
  },
  {
   "cell_type": "code",
   "execution_count": 87,
   "metadata": {
    "tags": [
     "outputPrepend"
    ]
   },
   "outputs": [
    {
     "output_type": "stream",
     "name": "stdout",
     "text": "Index(['household_weight', 'family_income', 'state_number'], dtype='object')\n      household_weight family_income state_number\n2             918.1112             9           46\n3            1266.6369             7           46\n6             636.8621             7           46\n7             869.4045            12           46\n8            2070.2745            11           40\n...                ...           ...          ...\n70009        6978.4236            10            6\n70010         901.6030            15           46\n70011        3540.1280            14            6\n70012         515.1397            15           46\n70013        3295.6243            14            6\n\n[42238 rows x 3 columns]\n<pandas.core.groupby.generic.SeriesGroupBy object at 0x000001F320189FC8>\n"
    }
   ],
   "source": [
    "dataframe_cps('apr',2020)"
   ]
  },
  {
   "cell_type": "code",
   "execution_count": null,
   "metadata": {},
   "outputs": [],
   "source": []
  }
 ],
 "metadata": {
  "language_info": {
   "codemirror_mode": {
    "name": "ipython",
    "version": 3
   },
   "file_extension": ".py",
   "mimetype": "text/x-python",
   "name": "python",
   "nbconvert_exporter": "python",
   "pygments_lexer": "ipython3",
   "version": "3.7.4-final"
  },
  "orig_nbformat": 2,
  "kernelspec": {
   "name": "python3",
   "display_name": "Python 3"
  }
 },
 "nbformat": 4,
 "nbformat_minor": 2
}